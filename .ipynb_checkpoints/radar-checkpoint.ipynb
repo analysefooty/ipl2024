{
 "cells": [
  {
   "cell_type": "code",
   "execution_count": null,
   "id": "initial_id",
   "metadata": {
    "collapsed": true
   },
   "outputs": [],
   "source": [
    ""
   ]
  },
  {
   "metadata": {
    "ExecuteTime": {
     "end_time": "2024-08-16T15:25:15.279500Z",
     "start_time": "2024-08-16T15:25:14.284467Z"
    }
   },
   "cell_type": "code",
   "source": [
    "import streamlit as st\n",
    "import matplotlib.pyplot as plt\n",
    "import numpy as np\n",
    "\n",
    "def radar_chart():\n",
    "    # Sample data\n",
    "    categories = ['Speed', 'Power', 'Agility', 'Stamina', 'Technique']\n",
    "    values = [4, 3, 5, 2, 4]\n",
    "\n",
    "    # Number of variables\n",
    "    num_vars = len(categories)\n",
    "\n",
    "    # Split the circle into even parts and save the angles\n",
    "    angles = np.linspace(0, 2 * np.pi, num_vars, endpoint=False).tolist()\n",
    "\n",
    "    # Close the plot by appending the start value to the end\n",
    "    values += values[:1]\n",
    "    angles += angles[:1]\n",
    "\n",
    "    # Create the plot\n",
    "    fig, ax = plt.subplots(figsize=(6, 6), subplot_kw=dict(projection='polar'))\n",
    "    ax.plot(angles, values)\n",
    "    ax.fill(angles, values, alpha=0.25)\n",
    "\n",
    "    # Set the labels\n",
    "    ax.set_xticks(angles[:-1])\n",
    "    ax.set_xticklabels(categories)\n",
    "\n",
    "    # Display the chart in Streamlit\n",
    "    st.pyplot(fig)"
   ],
   "id": "814df0b028526698",
   "outputs": [],
   "execution_count": 1
  },
  {
   "metadata": {},
   "cell_type": "code",
   "outputs": [],
   "execution_count": null,
   "source": "",
   "id": "5fff10bece2261e4"
  }
 ],
 "metadata": {
  "kernelspec": {
   "display_name": "Python 3",
   "language": "python",
   "name": "python3"
  },
  "language_info": {
   "codemirror_mode": {
    "name": "ipython",
    "version": 2
   },
   "file_extension": ".py",
   "mimetype": "text/x-python",
   "name": "python",
   "nbconvert_exporter": "python",
   "pygments_lexer": "ipython2",
   "version": "2.7.6"
  }
 },
 "nbformat": 4,
 "nbformat_minor": 5
}
